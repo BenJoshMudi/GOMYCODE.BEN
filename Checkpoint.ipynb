{
  "nbformat": 4,
  "nbformat_minor": 0,
  "metadata": {
    "colab": {
      "provenance": [],
      "authorship_tag": "ABX9TyO8HhofeP1LhoSwhYYoFsHF",
      "include_colab_link": true
    },
    "kernelspec": {
      "name": "python3",
      "display_name": "Python 3"
    },
    "language_info": {
      "name": "python"
    }
  },
  "cells": [
    {
      "cell_type": "markdown",
      "metadata": {
        "id": "view-in-github",
        "colab_type": "text"
      },
      "source": [
        "<a href=\"https://colab.research.google.com/github/BenJoshMudi/GOMYCODE.BEN/blob/main/Checkpoint.ipynb\" target=\"_parent\"><img src=\"https://colab.research.google.com/assets/colab-badge.svg\" alt=\"Open In Colab\"/></a>"
      ]
    },
    {
      "cell_type": "code",
      "execution_count": null,
      "metadata": {
        "colab": {
          "base_uri": "https://localhost:8080/"
        },
        "id": "FfIdWf1MtmcW",
        "outputId": "0bb4cc46-06c8-426e-cd51-0e3cb8e4fc9b"
      },
      "outputs": [
        {
          "output_type": "stream",
          "name": "stdout",
          "text": [
            "Enter your first value: 2\n",
            "Available operation: \n",
            "+\n",
            "-\n",
            "*\n",
            "/\n",
            "Select an operation: +\n",
            "Enter your second number: 4\n",
            "Your result is 6.0\n",
            "would you like to continue with the same result: Y/N\n",
            "y\n",
            "Select an operation: *\n",
            "Enter your second number: 5\n",
            "Your result is 30.0\n",
            "would you like to continue with the same result: Y/N\n",
            "n\n",
            "see you again bye!\n"
          ]
        }
      ],
      "source": [
        "\n",
        "def add(num1, num2):\n",
        "    return num1 + num2\n",
        "\n",
        "def subtract(num1, num2):\n",
        "    return num1 - num2\n",
        "\n",
        "def multiply(num1, num2):\n",
        "    return num1 * num2\n",
        "\n",
        "def divide(num1, num2):\n",
        "    return num1 / num2\n",
        "\n",
        "operations = {'+': add,\n",
        "            '-': subtract,\n",
        "            '*': multiply,\n",
        "            '/': divide\n",
        "}\n",
        "\n",
        "def calculator():\n",
        "    num1 = float(input(\"Enter your first value: \"))\n",
        "\n",
        "    print(\"Available operation: \")\n",
        "    for symbols in operations.keys():\n",
        "        print(symbols)\n",
        "\n",
        "    should_continue = True\n",
        "    while should_continue:\n",
        "        operation = input(\"Select an operation: \")\n",
        "        num2 = float(input(\"Enter your second number: \"))\n",
        "\n",
        "        if operation in operations:\n",
        "            calculation_function = operations[operation]\n",
        "            answer = calculation_function(num1, num2)\n",
        "            print(f\"Your result is {answer}\")\n",
        "\n",
        "            continue_result = input(\"would you like to continue with the same result: Y/N\\n\").upper()\n",
        "            if continue_result == 'Y':\n",
        "                num1 = answer\n",
        "            else:\n",
        "                should_continue = False\n",
        "        else:\n",
        "            print(\"invalid operation\")\n",
        "\n",
        "    new_calculation = (\"do you wish to perform a new calculation? Y/N: \\n\").upper()\n",
        "    if new_calculation == 'Y':\n",
        "        calculator()\n",
        "    else:\n",
        "        print(\"see you again bye!\")\n",
        "\n",
        "calculator()\n",
        "\n",
        "\n"
      ]
    },
    {
      "cell_type": "code",
      "source": [],
      "metadata": {
        "id": "I6DjPoGkh5kL"
      },
      "execution_count": null,
      "outputs": []
    }
  ]
}