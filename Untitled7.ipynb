{
  "nbformat": 4,
  "nbformat_minor": 0,
  "metadata": {
    "colab": {
      "provenance": [],
      "authorship_tag": "ABX9TyMRwBn3d9frTmeNCNwh3chX",
      "include_colab_link": true
    },
    "kernelspec": {
      "name": "python3",
      "display_name": "Python 3"
    },
    "language_info": {
      "name": "python"
    }
  },
  "cells": [
    {
      "cell_type": "markdown",
      "metadata": {
        "id": "view-in-github",
        "colab_type": "text"
      },
      "source": [
        "<a href=\"https://colab.research.google.com/github/BenJoshMudi/GOMYCODE.BEN/blob/main/Untitled7.ipynb\" target=\"_parent\"><img src=\"https://colab.research.google.com/assets/colab-badge.svg\" alt=\"Open In Colab\"/></a>"
      ]
    },
    {
      "cell_type": "code",
      "execution_count": 6,
      "metadata": {
        "colab": {
          "base_uri": "https://localhost:8080/"
        },
        "id": "GLJq4oOIrZE-",
        "outputId": "fccb4f78-10db-46dc-e810-43048fcb9276"
      },
      "outputs": [
        {
          "output_type": "stream",
          "name": "stdout",
          "text": [
            "Enter your name: benson\n",
            "benson\n",
            "Deposited $500: Current Balance: $500.0\n",
            "Amount withdraw $200\n"
          ]
        }
      ],
      "source": [
        "import random\n",
        "\n",
        "class Account():\n",
        "    def __init__(self):\n",
        "        self.account_number = self.generate_account_number()\n",
        "        self.account_balance = 0.0\n",
        "\n",
        "\n",
        "    def account_name(self, user_name):\n",
        "        print(input(\"Enter your name: \"))\n",
        "\n",
        "    def generate_account_number(self):\n",
        "        return ''.join(str(random.randint(0, 9)) for _ in range(9))\n",
        "\n",
        "    def deposit(self, amount):\n",
        "        self.account_balance += amount\n",
        "        print(f\"Deposited ${amount}: Current Balance: ${self.account_balance}\")\n",
        "\n",
        "    def withdraw(self, amount):\n",
        "        if amount <= self.account_balance:\n",
        "            self.account_balance -= amount\n",
        "            print(f\"Amount withdraw ${amount}\")\n",
        "        else:\n",
        "          print(\"insuficiant funds\")\n",
        "\n",
        "\n",
        "    def check_balance(self):\n",
        "        return self.account_balance\n",
        "\n",
        "\n",
        "my_account = Account()\n",
        "\n",
        "my_account.account_name(\"name\")\n",
        "my_account.generate_account_number()\n",
        "\n",
        "my_account.deposit(500)\n",
        "my_account.withdraw(200)\n",
        "\n",
        "\n",
        "\n",
        "\n",
        "\n"
      ]
    },
    {
      "cell_type": "code",
      "source": [],
      "metadata": {
        "id": "BG4l23S5raps"
      },
      "execution_count": 3,
      "outputs": []
    }
  ]
}