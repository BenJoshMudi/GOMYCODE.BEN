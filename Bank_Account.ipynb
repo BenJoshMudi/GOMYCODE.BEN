{
  "nbformat": 4,
  "nbformat_minor": 0,
  "metadata": {
    "colab": {
      "provenance": [],
      "authorship_tag": "ABX9TyNY7pvow84iDUz5FPAOXx/I",
      "include_colab_link": true
    },
    "kernelspec": {
      "name": "python3",
      "display_name": "Python 3"
    },
    "language_info": {
      "name": "python"
    }
  },
  "cells": [
    {
      "cell_type": "markdown",
      "metadata": {
        "id": "view-in-github",
        "colab_type": "text"
      },
      "source": [
        "<a href=\"https://colab.research.google.com/github/BenJoshMudi/GOMYCODE.BEN/blob/main/Check_Point.ipynb\" target=\"_parent\"><img src=\"https://colab.research.google.com/assets/colab-badge.svg\" alt=\"Open In Colab\"/></a>"
      ]
    },
    {
      "cell_type": "code",
      "execution_count": null,
      "metadata": {
        "colab": {
          "base_uri": "https://localhost:8080/"
        },
        "id": "KHI0_TrziDar",
        "outputId": "9f94fa79-841b-4263-b93f-488d62196c86"
      },
      "outputs": [
        {
          "output_type": "stream",
          "name": "stdout",
          "text": [
            "Want to check balance?: yes/no\n",
            "yes\n",
            "current balance is 30000.0\n",
            "current balance is 4000.0\n",
            "current balance is 6500.0\n"
          ]
        }
      ],
      "source": [
        "class Account():\n",
        "    def __init__(self, account_number, account_balance, account_holder):\n",
        "        self.account_number = account_number\n",
        "        self.account_balance = float(account_balance)\n",
        "        self.account_holder = account_holder\n",
        "\n",
        "    def deposit(self, amount):\n",
        "        self.account_balance += amount\n",
        "\n",
        "    def withdraw(self, amount):\n",
        "        if amount <= self.account_balance:\n",
        "            self.account_balance -= amount\n",
        "\n",
        "    def check_balance(self):\n",
        "        return self.account_balance\n",
        "\n",
        "\n",
        "account1 = Account('0226565002', 0.00 , 'Sophia')\n",
        "account1.deposit(50000)\n",
        "account1.withdraw(20000)\n",
        "\n",
        "account2 = Account('098000932', 0.00, 'jessica')\n",
        "account2.deposit(10000)\n",
        "account2.withdraw(6000)\n",
        "\n",
        "account3 = Account('098000932', 0.00, 'Benson')\n",
        "account3.deposit(10000)\n",
        "account3.withdraw(3500)\n",
        "\n",
        "check = input(\"Want to check balance?: yes/no\\n\")\n",
        "if check == 'yes':\n",
        "  print(f\"current balance is {account1.check_balance()}\")\n",
        "  print(f\"current balance is {account2.check_balance()}\")\n",
        "  print(f\"current balance is {account3.check_balance()}\")\n",
        "else:\n",
        "  print(\"See you next time\")\n",
        "\n",
        "\n",
        "\n",
        "\n"
      ]
    },
    {
      "cell_type": "code",
      "source": [],
      "metadata": {
        "id": "NDQeb-IEjZh-"
      },
      "execution_count": null,
      "outputs": []
    }
  ]
}
