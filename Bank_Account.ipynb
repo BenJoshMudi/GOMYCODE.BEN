{
  "nbformat": 4,
  "nbformat_minor": 0,
  "metadata": {
    "colab": {
      "provenance": [],
      "authorship_tag": "ABX9TyMyFKEOWFtPpyBU4wP0bQeg",
      "include_colab_link": true
    },
    "kernelspec": {
      "name": "python3",
      "display_name": "Python 3"
    },
    "language_info": {
      "name": "python"
    }
  },
  "cells": [
    {
      "cell_type": "markdown",
      "metadata": {
        "id": "view-in-github",
        "colab_type": "text"
      },
      "source": [
        "<a href=\"https://colab.research.google.com/github/BenJoshMudi/GOMYCODE.BEN/blob/main/Bank_Account.ipynb\" target=\"_parent\"><img src=\"https://colab.research.google.com/assets/colab-badge.svg\" alt=\"Open In Colab\"/></a>"
      ]
    },
    {
      "cell_type": "code",
      "execution_count": 1,
      "metadata": {
        "colab": {
          "base_uri": "https://localhost:8080/"
        },
        "id": "ZP-LmtLaXpG-",
        "outputId": "4269b377-0582-4377-d343-ae30b3636fab"
      },
      "outputs": [
        {
          "output_type": "stream",
          "name": "stdout",
          "text": [
            "Account Holder: Benson\n",
            "Account Number: 80569196\n",
            "Deposited $100: Current Balance: $100.0\n",
            "Withdrew $50: Current Balance: $50.0\n",
            "Current Balance: 50.0\n"
          ]
        }
      ],
      "source": [
        "import random\n",
        "\n",
        "class Account():\n",
        "    def __init__(self, account_holder):\n",
        "        self.account_number = self.generate_account_number()\n",
        "        self.account_balance = 0.0\n",
        "        self.account_holder = account_holder\n",
        "\n",
        "    def generate_account_number(self):\n",
        "        # Generate a random 8-digit account number\n",
        "        return ''.join(str(random.randint(0, 9)) for _ in range(8))\n",
        "\n",
        "    def deposit(self, amount):\n",
        "        self.account_balance += amount\n",
        "        print(f\"Deposited ${amount}: Current Balance: ${self.account_balance}\")\n",
        "\n",
        "    def withdraw(self, amount):\n",
        "        if amount <= self.account_balance:\n",
        "            self.account_balance -= amount\n",
        "            print(f\"Withdrew ${amount}: Current Balance: ${self.account_balance}\")\n",
        "        else:\n",
        "            print(\"Insufficient funds\")\n",
        "\n",
        "    def check_balance(self):\n",
        "        return self.account_balance\n",
        "\n",
        "# Creating an instance of the Account class\n",
        "my_account = Account(account_holder=\"Benson\")\n",
        "\n",
        "# Testing the methods\n",
        "print(\"Account Holder:\", my_account.account_holder)\n",
        "print(\"Account Number:\", my_account.account_number)\n",
        "\n",
        "my_account.deposit(100)\n",
        "my_account.withdraw(50)\n",
        "print(\"Current Balance:\", my_account.check_balance())"
      ]
    },
    {
      "cell_type": "code",
      "source": [],
      "metadata": {
        "id": "NEa40bx1XqGm"
      },
      "execution_count": null,
      "outputs": []
    }
  ]
}