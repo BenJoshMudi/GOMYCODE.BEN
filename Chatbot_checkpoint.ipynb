{
  "cells": [
    {
      "cell_type": "markdown",
      "metadata": {
        "id": "view-in-github",
        "colab_type": "text"
      },
      "source": [
        "<a href=\"https://colab.research.google.com/github/BenJoshMudi/GOMYCODE.BEN/blob/main/Chatbot_checkpoint.ipynb\" target=\"_parent\"><img src=\"https://colab.research.google.com/assets/colab-badge.svg\" alt=\"Open In Colab\"/></a>"
      ]
    },
    {
      "cell_type": "code",
      "execution_count": 14,
      "metadata": {
        "id": "4CqRDX36ibuX"
      },
      "outputs": [],
      "source": [
        "import numpy as np\n",
        "import nltk\n",
        "import string\n",
        "import random"
      ]
    },
    {
      "cell_type": "markdown",
      "metadata": {
        "id": "XMCRwQipkZ_p"
      },
      "source": [
        "Reading the Corpus of Text"
      ]
    },
    {
      "cell_type": "code",
      "execution_count": 15,
      "metadata": {
        "id": "Dos0_vRskXBe"
      },
      "outputs": [],
      "source": [
        "f = open('/content/chatdata.txt', 'r', errors='ignore')\n",
        "raw_doc = f.read()"
      ]
    },
    {
      "cell_type": "code",
      "execution_count": 16,
      "metadata": {
        "colab": {
          "base_uri": "https://localhost:8080/"
        },
        "id": "LAgN-pODk2UQ",
        "outputId": "2f91636a-af62-4645-eea7-1ad90997102d"
      },
      "outputs": [
        {
          "output_type": "stream",
          "name": "stderr",
          "text": [
            "[nltk_data] Downloading package punkt to /root/nltk_data...\n",
            "[nltk_data]   Package punkt is already up-to-date!\n",
            "[nltk_data] Downloading package wordnet to /root/nltk_data...\n",
            "[nltk_data]   Package wordnet is already up-to-date!\n",
            "[nltk_data] Downloading package omw-1.4 to /root/nltk_data...\n",
            "[nltk_data]   Package omw-1.4 is already up-to-date!\n"
          ]
        },
        {
          "output_type": "execute_result",
          "data": {
            "text/plain": [
              "True"
            ]
          },
          "metadata": {},
          "execution_count": 16
        }
      ],
      "source": [
        "row_doc = raw_doc.lower() #converting entire text to lowercase\n",
        "nltk.download('punkt') #using the punkt tokenizer\n",
        "nltk.download('wordnet') #using the wordnet dictionary\n",
        "nltk.download('omw-1.4')"
      ]
    },
    {
      "cell_type": "code",
      "execution_count": 17,
      "metadata": {
        "id": "QroCxpOyk6rY"
      },
      "outputs": [],
      "source": [
        "sentence_tokens = nltk.sent_tokenize(row_doc) #converts doc to list of sentences\n",
        "word_tokens = nltk.word_tokenize(row_doc) #converts doc to list of words"
      ]
    },
    {
      "cell_type": "markdown",
      "metadata": {
        "id": "CoeolaoAmYgk"
      },
      "source": [
        "After Tokenization"
      ]
    },
    {
      "cell_type": "code",
      "execution_count": 18,
      "metadata": {
        "colab": {
          "base_uri": "https://localhost:8080/"
        },
        "id": "l6RNMHQFl7Vb",
        "outputId": "560cab6c-b47b-4d02-be21-d238fbdb498d"
      },
      "outputs": [
        {
          "output_type": "execute_result",
          "data": {
            "text/plain": [
              "['logo of the australian psychological society\\npsychology topics community members education about aps login\\n\\nstress\\n\\n\\nstress is often described as feeling overloaded, wound-up, tense and worried, and occurs when we face a situation we feel we can’t cope with.',\n",
              " 'while stress is usually referred to as a negative experience, not all stress is bad.',\n",
              " 'some stress can be helpful, motivating us to get a task finished, or spurring us to perform well.',\n",
              " 'however, if stress is ongoing or the stress response continues over a long period, the effects of stress can impact negatively on our physical and mental health.',\n",
              " '| \\nrecognise signs of stress\\nsigns of stress vary from person to person but recognising your own personal signs can help you take positive steps to manage your stress.']"
            ]
          },
          "metadata": {},
          "execution_count": 18
        }
      ],
      "source": [
        "sentence_tokens[:5]"
      ]
    },
    {
      "cell_type": "code",
      "execution_count": 19,
      "metadata": {
        "colab": {
          "base_uri": "https://localhost:8080/"
        },
        "id": "8SfuG_h2nDma",
        "outputId": "43c76700-4a0a-4760-b368-dd6c916bd47d"
      },
      "outputs": [
        {
          "output_type": "execute_result",
          "data": {
            "text/plain": [
              "['logo', 'of', 'the', 'australian', 'psychological']"
            ]
          },
          "metadata": {},
          "execution_count": 19
        }
      ],
      "source": [
        "word_tokens[:5]"
      ]
    },
    {
      "cell_type": "markdown",
      "metadata": {
        "id": "pMbaiznQnyqO"
      },
      "source": [
        "Performing Text-PreProcessing Steps (Lemmatization)"
      ]
    },
    {
      "cell_type": "code",
      "execution_count": 20,
      "metadata": {
        "id": "Uv9pSdKBoA61"
      },
      "outputs": [],
      "source": [
        "lemmer = nltk.stem.WordNetLemmatizer()\n",
        "#WordNet is a semantically-oriented dictionary of English included in NLTK.\n",
        "def LemTokens(tokens):\n",
        "  return [lemmer.lemmatize(token) for token in tokens]\n",
        "  #Lemmatizing\n",
        "remove_punct_dict = dict((ord(punct), None) for punct in string.punctuation)\n",
        "def LemNormalize(text):\n",
        "  return LemTokens(nltk.word_tokenize(text.lower().translate(remove_punct_dict)))"
      ]
    },
    {
      "cell_type": "markdown",
      "metadata": {
        "id": "G1x7BSP6pSpN"
      },
      "source": [
        "Define Greeting functions"
      ]
    },
    {
      "cell_type": "code",
      "execution_count": 21,
      "metadata": {
        "id": "uonjV9tro_W6"
      },
      "outputs": [],
      "source": [
        "greet_inputs = (\"hello\", \"hi\", \"greetings\", \"sup\", \"what's up\", \"hey\")\n",
        "greet_responses = [\"hi\", \"hey\", \"whatsup\", \"hi there\", \"hello\", \"I am glad! You are talking to me\"]\n",
        "def greet(sentence):\n",
        "  for word in sentence.split():\n",
        "    if word.lower() in greet_inputs:\n",
        "      return random.choice(greet_responses)"
      ]
    },
    {
      "cell_type": "markdown",
      "metadata": {
        "id": "z2AohEvvqfcf"
      },
      "source": [
        "Response Generation by the Bolt"
      ]
    },
    {
      "cell_type": "code",
      "execution_count": 22,
      "metadata": {
        "id": "KAWNqJ9BqaBz"
      },
      "outputs": [],
      "source": [
        "from sklearn.feature_extraction.text import TfidfVectorizer\n",
        "from sklearn.metrics.pairwise import cosine_similarity"
      ]
    },
    {
      "cell_type": "code",
      "execution_count": 23,
      "metadata": {
        "id": "EOjp9d5aqsDv"
      },
      "outputs": [],
      "source": [
        "def response(user_response):\n",
        "  robo1_response = ''\n",
        "  TfidfVec = TfidfVectorizer(tokenizer=LemNormalize, stop_words='english')\n",
        "  tfidf = TfidfVec.fit_transform(sentence_tokens)\n",
        "  vals = cosine_similarity(tfidf[-1], tfidf)\n",
        "  idx = vals.argsort()[0][-2]\n",
        "  flat = vals.flatten()\n",
        "  flat.sort()\n",
        "  req_tfidf = flat[-2]\n",
        "  if(req_tfidf == 0):\n",
        "    robo1_response = robo1_response + \"I am sorry! I don't understand you\"\n",
        "    return robo1_response\n",
        "  else:\n",
        "    robo1_response = robo1_response + sentence_tokens[idx]\n",
        "    return robo1_response\n"
      ]
    },
    {
      "cell_type": "markdown",
      "metadata": {
        "id": "dKPjTGEVr7AU"
      },
      "source": [
        "**Defining the ChatFlow**"
      ]
    },
    {
      "cell_type": "code",
      "execution_count": null,
      "metadata": {
        "colab": {
          "base_uri": "https://localhost:8080/"
        },
        "id": "7lM8oSgBrtG6",
        "outputId": "14c89070-ae01-48f8-9a5b-8b407f2b5f8e"
      },
      "outputs": [
        {
          "output_type": "stream",
          "name": "stdout",
          "text": [
            "BOT: My name is Bolt. Let's have a conversation! Also, if you want to exit any time, just type bye!\n",
            "hey\n",
            "BOT: I am glad! You are talking to me\n",
            "what is data science\n",
            "BOT: data analysis vs data science vs machine learning\n",
            "data analysis and data science are almost the same because they share the\n",
            "same goal, which is to derive insights from data and use it for better decision\n",
            "making.\n",
            "what is emotion\n",
            "BOT: the dictionary ofcognitive  psychology  (oatley 1994) does not formally define emotion,  but anoperative definition emerges from its five pages devoted to emotion: emotion isa  mental state.\n",
            "creativity\n",
            "BOT: creativity concept creativity includes two dimensions.\n",
            "explain the concept of creativity\n",
            "BOT: creativity concept creativity includes two dimensions.\n",
            "types\n",
            "BOT: the file type your company chose might had depended on\n",
            "convenience and existing infrastructure.\n",
            "types of creativity and their effects\n",
            "BOT: the study examined the effect of the icstc- infusing creativity into science and technology curriculum- on students' creativity and on implementation of creativity, using the 'design approach'.\n"
          ]
        }
      ],
      "source": [
        "flag = True\n",
        "print(\"BOT: My name is Bolt. Let's have a conversation! Also, if you want to exit any time, just type bye!\")\n",
        "while(flag == True):\n",
        "    user_response = input()\n",
        "    user_response = user_response.lower()\n",
        "    if(user_response != 'bye'):\n",
        "        if(user_response == 'thanks' or user_response == 'thank you'):\n",
        "            flag = False\n",
        "            print(\"BOT: You are welcome..\")\n",
        "        else:\n",
        "            if(greet(user_response) != None):\n",
        "                print(\"BOT: \" + greet(user_response))\n",
        "            else:\n",
        "                sentence_tokens.append(user_response)\n",
        "                word_tokens = word_tokens + nltk.word_tokenize(user_response)\n",
        "                final_words = list(set(word_tokens))\n",
        "                print(\"BOT: \", end=\"\")\n",
        "                print(response(user_response))\n",
        "                sentence_tokens.remove(user_response)\n",
        "    else:\n",
        "        flag = False\n",
        "        print(\"BOT: Goodbye! Take Care\")\n"
      ]
    }
  ],
  "metadata": {
    "colab": {
      "provenance": [],
      "authorship_tag": "ABX9TyPVbKF5UPMqapTN4MHQj9R+",
      "include_colab_link": true
    },
    "kernelspec": {
      "display_name": "Python 3",
      "name": "python3"
    },
    "language_info": {
      "name": "python"
    }
  },
  "nbformat": 4,
  "nbformat_minor": 0
}