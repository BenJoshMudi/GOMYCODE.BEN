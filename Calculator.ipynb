{
  "nbformat": 4,
  "nbformat_minor": 0,
  "metadata": {
    "colab": {
      "provenance": [],
      "authorship_tag": "ABX9TyMh8SpXjmt60kbtgmiXttFt",
      "include_colab_link": true
    },
    "kernelspec": {
      "name": "python3",
      "display_name": "Python 3"
    },
    "language_info": {
      "name": "python"
    }
  },
  "cells": [
    {
      "cell_type": "markdown",
      "metadata": {
        "id": "view-in-github",
        "colab_type": "text"
      },
      "source": [
        "<a href=\"https://colab.research.google.com/github/BenJoshMudi/GOMYCODE.BEN/blob/main/Calculator.ipynb\" target=\"_parent\"><img src=\"https://colab.research.google.com/assets/colab-badge.svg\" alt=\"Open In Colab\"/></a>"
      ]
    },
    {
      "cell_type": "code",
      "execution_count": null,
      "metadata": {
        "colab": {
          "base_uri": "https://localhost:8080/"
        },
        "id": "_nW7mV9Ky5zG",
        "outputId": "11e726ab-49fc-4b3d-8e76-095fc1b25b9e"
      },
      "outputs": [
        {
          "output_type": "stream",
          "name": "stdout",
          "text": [
            "Enter the first number: 3\n",
            "Available operations:\n",
            "+ - * / \n",
            "Choose an operation symbol: +\n",
            "Enter the second number: 4\n",
            "3.0 + 4.0 = 7.0\n",
            "Do you want to continue with the result (Y/N)? y\n",
            "Choose an operation symbol: -\n",
            "Enter the second number: 2\n",
            "7.0 - 2.0 = 5.0\n",
            "Do you want to continue with the result (Y/N)? n\n",
            "Do you want to start a new calculation (Y/N)? n\n",
            "Goodbye!\n"
          ]
        }
      ],
      "source": [
        "\n",
        "# Basic mathematical functions\n",
        "def add(x, y):\n",
        "    return x + y\n",
        "\n",
        "def subtract(x, y):\n",
        "    return x - y\n",
        "\n",
        "def multiply(x, y):\n",
        "    return x * y\n",
        "\n",
        "def divide(x, y):\n",
        "    if y != 0:\n",
        "        return x / y\n",
        "    else:\n",
        "        return \"Error: Division by zero!\"\n",
        "\n",
        "# Dictionary to store operations\n",
        "operations = {\n",
        "    '+': add,\n",
        "    '-': subtract,\n",
        "    '*': multiply,\n",
        "    '/': divide\n",
        "}\n",
        "\n",
        "# Calculator function\n",
        "def calculator():\n",
        "    num1 = float(input(\"Enter the first number: \"))\n",
        "\n",
        "    print(\"Available operations:\")\n",
        "    for symbol in operations.keys():\n",
        "        print(symbol, end=' ')\n",
        "    print()\n",
        "\n",
        "    should_continue = True\n",
        "    while should_continue:\n",
        "        operation = input(\"Choose an operation symbol: \")\n",
        "        num2 = float(input(\"Enter the second number: \"))\n",
        "\n",
        "        if operation in operations:\n",
        "            calculation_function = operations[operation]\n",
        "            answer = calculation_function(num1, num2)\n",
        "            print(f\"{num1} {operation} {num2} = {answer}\")\n",
        "\n",
        "            choice = input(\"Do you want to continue with the result (Y/N)? \").upper()\n",
        "            if choice == 'Y':\n",
        "                num1 = answer\n",
        "            else:\n",
        "                should_continue = False\n",
        "        else:\n",
        "            print(\"Invalid operation symbol!\")\n",
        "\n",
        "    # Ask if the user wants to start a new calculation\n",
        "    new_calculation = input(\"Do you want to start a new calculation (Y/N)? \").upper()\n",
        "    if new_calculation == 'Y':\n",
        "        calculator()\n",
        "    else:\n",
        "        print(\"Goodbye!\")\n",
        "\n",
        "# Start the calculator\n",
        "calculator()\n"
      ]
    },
    {
      "cell_type": "code",
      "source": [],
      "metadata": {
        "id": "Zft2NQQzy_aU"
      },
      "execution_count": null,
      "outputs": []
    }
  ]
}