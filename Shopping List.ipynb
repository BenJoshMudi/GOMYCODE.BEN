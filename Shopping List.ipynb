{
  "nbformat": 4,
  "nbformat_minor": 0,
  "metadata": {
    "colab": {
      "provenance": [],
      "authorship_tag": "ABX9TyPZdseKOiaeGcu2ZkKcCmfr",
      "include_colab_link": true
    },
    "kernelspec": {
      "name": "python3",
      "display_name": "Python 3"
    },
    "language_info": {
      "name": "python"
    }
  },
  "cells": [
    {
      "cell_type": "markdown",
      "metadata": {
        "id": "view-in-github",
        "colab_type": "text"
      },
      "source": [
        "<a href=\"https://colab.research.google.com/github/BenJoshMudi/GOMYCODE.BEN/blob/main/Untitled1.ipynb\" target=\"_parent\"><img src=\"https://colab.research.google.com/assets/colab-badge.svg\" alt=\"Open In Colab\"/></a>"
      ]
    },
    {
      "cell_type": "code",
      "execution_count": null,
      "metadata": {
        "colab": {
          "base_uri": "https://localhost:8080/"
        },
        "id": "CLRQ61Uz5M5r",
        "outputId": "a7dd26b8-bdbb-45aa-f533-66354f36d213"
      },
      "outputs": [
        {
          "output_type": "stream",
          "name": "stdout",
          "text": [
            "Type 'add' to add an item, 'remove' to remove an item, or 'view' to view the shopping list: add\n",
            "Enter an item: biscuit\n",
            "Type 'add' to add an item, 'remove' to remove an item, or 'view' to view the shopping list: add\n",
            "Enter an item: ball\n",
            "Type 'add' to add an item, 'remove' to remove an item, or 'view' to view the shopping list: add\n",
            "Enter an item: mango\n",
            "Type 'add' to add an item, 'remove' to remove an item, or 'view' to view the shopping list: add\n",
            "Enter an item: vera\n",
            "Type 'add' to add an item, 'remove' to remove an item, or 'view' to view the shopping list: add\n",
            "Enter an item: coke\n",
            "Type 'add' to add an item, 'remove' to remove an item, or 'view' to view the shopping list: remove\n",
            "Enter the item you wish to remove: vera\n",
            "Type 'add' to add an item, 'remove' to remove an item, or 'view' to view the shopping list: view\n",
            "Shopping List:\n",
            "biscuit\n",
            "ball\n",
            "mango\n",
            "coke\n"
          ]
        }
      ],
      "source": [
        "shopping_list = []\n",
        "\n",
        "while True:\n",
        "\n",
        "    select = input(\"Type 'add' to add an item, 'remove' to remove an item, or 'view' to view the shopping list: \")\n",
        "\n",
        "\n",
        "    if select == \"add\":\n",
        "\n",
        "        item = input(\"Enter an item: \").lower()\n",
        "\n",
        "        shopping_list.append(item)\n",
        "\n",
        "    elif select == \"remove\":\n",
        "\n",
        "        item_to_remove = input(\"Enter the item you wish to remove: \")\n",
        "\n",
        "        if item_to_remove in shopping_list:\n",
        "\n",
        "            shopping_list.remove(item_to_remove)\n",
        "\n",
        "        else:\n",
        "\n",
        "            print(\"Item not found in the shopping list.\")\n",
        "\n",
        "    elif select == \"view\":\n",
        "\n",
        "        print(\"Shopping List:\")\n",
        "\n",
        "        for item in shopping_list:\n",
        "\n",
        "            print(item)\n",
        "\n",
        "        break\n",
        "\n",
        "    else:\n",
        "\n",
        "        print(\"Invalid input. Please try again.\")"
      ]
    }
  ]
}
