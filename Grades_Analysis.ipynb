{
  "nbformat": 4,
  "nbformat_minor": 0,
  "metadata": {
    "colab": {
      "provenance": [],
      "authorship_tag": "ABX9TyOq5ZbZq5SHHyfNdkpPvvjh",
      "include_colab_link": true
    },
    "kernelspec": {
      "name": "python3",
      "display_name": "Python 3"
    },
    "language_info": {
      "name": "python"
    }
  },
  "cells": [
    {
      "cell_type": "markdown",
      "metadata": {
        "id": "view-in-github",
        "colab_type": "text"
      },
      "source": [
        "<a href=\"https://colab.research.google.com/github/BenJoshMudi/GOMYCODE.BEN/blob/main/Grades_Analysis.ipynb\" target=\"_parent\"><img src=\"https://colab.research.google.com/assets/colab-badge.svg\" alt=\"Open In Colab\"/></a>"
      ]
    },
    {
      "cell_type": "code",
      "source": [
        "import numpy as np"
      ],
      "metadata": {
        "id": "-_w3YAwoRBNZ"
      },
      "execution_count": null,
      "outputs": []
    },
    {
      "cell_type": "code",
      "execution_count": null,
      "metadata": {
        "colab": {
          "base_uri": "https://localhost:8080/"
        },
        "id": "SKQ32UeaQdbH",
        "outputId": "ecdd4550-9709-4798-ccbc-17d84533905c"
      },
      "outputs": [
        {
          "output_type": "execute_result",
          "data": {
            "text/plain": [
              "array([85, 90, 88, 92, 95, 80, 75, 98, 89, 83])"
            ]
          },
          "metadata": {},
          "execution_count": 4
        }
      ],
      "source": [
        "grades = np.array([85, 90, 88, 92, 95, 80, 75, 98, 89, 83])\n",
        "grades"
      ]
    },
    {
      "cell_type": "code",
      "source": [
        "# to calculate the mean of the grades\n",
        "grades_mean = np.mean(grades)\n",
        "grades_mean"
      ],
      "metadata": {
        "colab": {
          "base_uri": "https://localhost:8080/"
        },
        "id": "LAHVYgqySTYs",
        "outputId": "3b99ff9e-fffa-4474-ea11-970506800341"
      },
      "execution_count": null,
      "outputs": [
        {
          "output_type": "execute_result",
          "data": {
            "text/plain": [
              "87.5"
            ]
          },
          "metadata": {},
          "execution_count": 5
        }
      ]
    },
    {
      "cell_type": "code",
      "source": [
        "# to calculate the median of the grades\n",
        "grades_median = np.median(grades)\n",
        "grades_median\n"
      ],
      "metadata": {
        "colab": {
          "base_uri": "https://localhost:8080/"
        },
        "id": "AuL5aA0OTROu",
        "outputId": "6f9840f8-5ea1-4a1f-e84d-dcb07d11b1b4"
      },
      "execution_count": null,
      "outputs": [
        {
          "output_type": "execute_result",
          "data": {
            "text/plain": [
              "88.5"
            ]
          },
          "metadata": {},
          "execution_count": 8
        }
      ]
    },
    {
      "cell_type": "code",
      "source": [
        "# to calculate the standard deviation of the grades\n",
        "grades_std = np.std(grades)\n",
        "grades_std"
      ],
      "metadata": {
        "colab": {
          "base_uri": "https://localhost:8080/"
        },
        "id": "1TBo4gyCThtT",
        "outputId": "4f12d6da-8894-4d11-9bab-951c3e79d37c"
      },
      "execution_count": null,
      "outputs": [
        {
          "output_type": "execute_result",
          "data": {
            "text/plain": [
              "6.591661399070799"
            ]
          },
          "metadata": {},
          "execution_count": 9
        }
      ]
    },
    {
      "cell_type": "code",
      "source": [
        "# to get the maximum grades\n",
        "grades_max = np.max(grades)\n",
        "print(\"The maximum grade is:\", grades_max)"
      ],
      "metadata": {
        "colab": {
          "base_uri": "https://localhost:8080/"
        },
        "id": "Q_cHBJX9TvUQ",
        "outputId": "ade7165f-98e7-4187-f9bb-bb0339cfdf03"
      },
      "execution_count": null,
      "outputs": [
        {
          "output_type": "stream",
          "name": "stdout",
          "text": [
            "The maximum grade is: 98\n"
          ]
        }
      ]
    },
    {
      "cell_type": "code",
      "source": [
        "# to get the minimum grades\n",
        "grades_min = np.min(grades)\n",
        "grades_min\n",
        "print(\"The minimum grade is:\", grades_min)"
      ],
      "metadata": {
        "colab": {
          "base_uri": "https://localhost:8080/"
        },
        "id": "T8XKu06UUXna",
        "outputId": "b973d7f8-b694-4dda-f5da-af56c4a16ce4"
      },
      "execution_count": null,
      "outputs": [
        {
          "output_type": "stream",
          "name": "stdout",
          "text": [
            "The minimum grade is: 75\n"
          ]
        }
      ]
    },
    {
      "cell_type": "code",
      "source": [
        "arcending_indices = np.argsort(grades)\n",
        "arcending_grades = grades[arcending_indices]\n",
        "arcending_grades"
      ],
      "metadata": {
        "colab": {
          "base_uri": "https://localhost:8080/"
        },
        "id": "UvDTSzRPUbu7",
        "outputId": "b21ed945-d10a-4fb3-ae53-82d2eb39e271"
      },
      "execution_count": null,
      "outputs": [
        {
          "output_type": "execute_result",
          "data": {
            "text/plain": [
              "array([75, 80, 83, 85, 88, 89, 90, 92, 95, 98])"
            ]
          },
          "metadata": {},
          "execution_count": 15
        }
      ]
    },
    {
      "cell_type": "code",
      "source": [
        "# to get the index\n",
        "index_highest_grades = np.max(arcending_indices)\n",
        "index_highest_grades"
      ],
      "metadata": {
        "colab": {
          "base_uri": "https://localhost:8080/"
        },
        "id": "VkvWS0NmUsGq",
        "outputId": "ce2101bc-ee80-4fe1-a93d-4d6ac77756cd"
      },
      "execution_count": null,
      "outputs": [
        {
          "output_type": "execute_result",
          "data": {
            "text/plain": [
              "9"
            ]
          },
          "metadata": {},
          "execution_count": 16
        }
      ]
    },
    {
      "cell_type": "code",
      "source": [
        "# to count the grades above 90 use grades[grades > 90]\n",
        "grades_above_90 = len(grades[grades>90])\n",
        "grades_above_90"
      ],
      "metadata": {
        "colab": {
          "base_uri": "https://localhost:8080/"
        },
        "id": "Zr284MQgW0ly",
        "outputId": "6184f023-d5c8-4759-9493-6f0911c6cfd5"
      },
      "execution_count": null,
      "outputs": [
        {
          "output_type": "execute_result",
          "data": {
            "text/plain": [
              "3"
            ]
          },
          "metadata": {},
          "execution_count": 36
        }
      ]
    },
    {
      "cell_type": "code",
      "source": [
        "# to calculate percentage of student who scored above 90.\n",
        "grades_percent_above_90 = np.mean(grades[grades>90]) / 100\n",
        "grades_percent_above_90\n",
        "print(\"Number of students who scored above 90:\", grades_percent_above_90)"
      ],
      "metadata": {
        "colab": {
          "base_uri": "https://localhost:8080/"
        },
        "id": "2Mz31srGXSlE",
        "outputId": "f20c221e-c264-43c5-efaf-305066169d06"
      },
      "execution_count": null,
      "outputs": [
        {
          "output_type": "stream",
          "name": "stdout",
          "text": [
            "Number of students who scored above 90: 0.95\n"
          ]
        }
      ]
    },
    {
      "cell_type": "code",
      "source": [
        "# to calculate the percentage of student who scored below 70\n",
        "grades_percent_below_75 = np.mean(grades[grades<75]) / 100\n",
        "grades_percent_below_75\n",
        "print(\"percentage of students who scored below 75:\", grades_percent_below_75)"
      ],
      "metadata": {
        "colab": {
          "base_uri": "https://localhost:8080/"
        },
        "id": "dgAGH5UZZZZU",
        "outputId": "c2f51b22-980b-453c-fcbf-286bff02c714"
      },
      "execution_count": null,
      "outputs": [
        {
          "output_type": "stream",
          "name": "stdout",
          "text": [
            "percentage of students who scored below 75: nan\n"
          ]
        },
        {
          "output_type": "stream",
          "name": "stderr",
          "text": [
            "/usr/local/lib/python3.10/dist-packages/numpy/core/fromnumeric.py:3504: RuntimeWarning: Mean of empty slice.\n",
            "  return _methods._mean(a, axis=axis, dtype=dtype,\n",
            "/usr/local/lib/python3.10/dist-packages/numpy/core/_methods.py:129: RuntimeWarning: invalid value encountered in scalar divide\n",
            "  ret = ret.dtype.type(ret / rcount)\n"
          ]
        }
      ]
    },
    {
      "cell_type": "code",
      "source": [
        "# to extract all the grades above 75\n",
        "high_performers = grades[grades>90]\n",
        "high_performers\n",
        "print(\"students who scored above 75:\", high_performers)"
      ],
      "metadata": {
        "colab": {
          "base_uri": "https://localhost:8080/"
        },
        "id": "p23m3f9SbrKV",
        "outputId": "b740017f-19ce-4297-dd7a-9d84300d6e81"
      },
      "execution_count": null,
      "outputs": [
        {
          "output_type": "stream",
          "name": "stdout",
          "text": [
            "students who scored above 75: [92 95 98]\n"
          ]
        }
      ]
    },
    {
      "cell_type": "code",
      "source": [
        "passing_grades = grades[grades>75]\n",
        "passing_grades"
      ],
      "metadata": {
        "colab": {
          "base_uri": "https://localhost:8080/"
        },
        "id": "Qp8eqr3AcMyh",
        "outputId": "298e4010-29ab-4a37-e100-acaf1bbc16a5"
      },
      "execution_count": null,
      "outputs": [
        {
          "output_type": "execute_result",
          "data": {
            "text/plain": [
              "array([85, 90, 88, 92, 95, 80, 98, 89, 83])"
            ]
          },
          "metadata": {},
          "execution_count": 34
        }
      ]
    },
    {
      "cell_type": "markdown",
      "source": [],
      "metadata": {
        "id": "yEpwexTEZ91O"
      }
    }
  ]
}