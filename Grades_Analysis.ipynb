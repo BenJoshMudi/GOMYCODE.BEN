{
  "nbformat": 4,
  "nbformat_minor": 0,
  "metadata": {
    "colab": {
      "provenance": [],
      "authorship_tag": "ABX9TyMU4e0QOiIHSu54J+x2stzC",
      "include_colab_link": true
    },
    "kernelspec": {
      "name": "python3",
      "display_name": "Python 3"
    },
    "language_info": {
      "name": "python"
    }
  },
  "cells": [
    {
      "cell_type": "markdown",
      "metadata": {
        "id": "view-in-github",
        "colab_type": "text"
      },
      "source": [
        "<a href=\"https://colab.research.google.com/github/BenJoshMudi/GOMYCODE.BEN/blob/main/Grades_Analysis.ipynb\" target=\"_parent\"><img src=\"https://colab.research.google.com/assets/colab-badge.svg\" alt=\"Open In Colab\"/></a>"
      ]
    },
    {
      "cell_type": "code",
      "source": [
        "import numpy as np"
      ],
      "metadata": {
        "id": "-_w3YAwoRBNZ"
      },
      "execution_count": null,
      "outputs": []
    },
    {
      "cell_type": "code",
      "source": [
        "\"\"\" Create a new file called \"grades_analysis.py\"\n",
        "Import the numpy library and create the \"grades\" array as specified above.\n",
        "Use numpy functions to calculate the mean, median, and standard deviation of the grades.\n",
        "Use numpy function to find the maximum and minimum of the grades.\n",
        "Use numpy function to sort the grades in ascending order.\n",
        "Use numpy function to find the index of the highest grade in the array.\n",
        "Use numpy function to count the number of students who scored above 90.\n",
        "Use numpy function to calculate the percentage of students who scored above 90.\n",
        "Use numpy function to calculate the percentage of students who scored below 75.\n",
        "Use numpy function to extract all the grades above 90 and put them in a new array called \"high_performers\".\n",
        "Create a new array called \"passing_grades\" that contains all the grades above 75.\n",
        "Print the result of all the above steps.\n",
        "\n",
        "\"\"\""
      ],
      "metadata": {
        "colab": {
          "base_uri": "https://localhost:8080/",
          "height": 105
        },
        "id": "VDfc-RjmMQJv",
        "outputId": "72b17f80-d340-49aa-84ab-09865ce9cb86"
      },
      "execution_count": null,
      "outputs": [
        {
          "output_type": "execute_result",
          "data": {
            "text/plain": [
              "' Create a new file called \"grades_analysis.py\"\\nImport the numpy library and create the \"grades\" array as specified above.\\nUse numpy functions to calculate the mean, median, and standard deviation of the grades.\\nUse numpy function to find the maximum and minimum of the grades.\\nUse numpy function to sort the grades in ascending order.\\nUse numpy function to find the index of the highest grade in the array.\\nUse numpy function to count the number of students who scored above 90.\\nUse numpy function to calculate the percentage of students who scored above 90.\\nUse numpy function to calculate the percentage of students who scored below 75.\\nUse numpy function to extract all the grades above 90 and put them in a new array called \"high_performers\".\\nCreate a new array called \"passing_grades\" that contains all the grades above 75.\\nPrint the result of all the above steps.\\n\\n'"
            ],
            "application/vnd.google.colaboratory.intrinsic+json": {
              "type": "string"
            }
          },
          "metadata": {},
          "execution_count": 23
        }
      ]
    },
    {
      "cell_type": "code",
      "source": [
        "grades = np.array([85, 90, 88, 92, 95, 80, 75, 98, 89, 83])"
      ],
      "metadata": {
        "id": "ApjqOt55M63a"
      },
      "execution_count": 24,
      "outputs": []
    },
    {
      "cell_type": "code",
      "source": [
        "grades_mean = np.mean(grades)\n",
        "grades_mean\n"
      ],
      "metadata": {
        "colab": {
          "base_uri": "https://localhost:8080/"
        },
        "id": "--1dgiuGNxIY",
        "outputId": "a0591241-d463-43be-fa4a-87d61e1aafa6"
      },
      "execution_count": 26,
      "outputs": [
        {
          "output_type": "execute_result",
          "data": {
            "text/plain": [
              "87.5"
            ]
          },
          "metadata": {},
          "execution_count": 26
        }
      ]
    },
    {
      "cell_type": "code",
      "source": [
        "# to calculate the median of the grades\n",
        "grades_median = np.median(grades)\n",
        "grades_median\n"
      ],
      "metadata": {
        "colab": {
          "base_uri": "https://localhost:8080/"
        },
        "id": "AuL5aA0OTROu",
        "outputId": "d99d8101-7702-45b9-df6f-5ada3b17d707"
      },
      "execution_count": 27,
      "outputs": [
        {
          "output_type": "execute_result",
          "data": {
            "text/plain": [
              "88.5"
            ]
          },
          "metadata": {},
          "execution_count": 27
        }
      ]
    },
    {
      "cell_type": "code",
      "source": [
        "# to calculate the standard deviation of the grades\n",
        "grades_std = np.std(grades)\n",
        "grades_std"
      ],
      "metadata": {
        "colab": {
          "base_uri": "https://localhost:8080/"
        },
        "id": "1TBo4gyCThtT",
        "outputId": "a14b382e-8774-4b60-c4fa-b4bf40c58760"
      },
      "execution_count": 28,
      "outputs": [
        {
          "output_type": "execute_result",
          "data": {
            "text/plain": [
              "6.591661399070799"
            ]
          },
          "metadata": {},
          "execution_count": 28
        }
      ]
    },
    {
      "cell_type": "code",
      "source": [
        "# to get the maximum grades\n",
        "grades_max = np.max(grades)\n",
        "print(\"The maximum grade is:\", grades_max)"
      ],
      "metadata": {
        "colab": {
          "base_uri": "https://localhost:8080/"
        },
        "id": "Q_cHBJX9TvUQ",
        "outputId": "8b47dc66-09b8-4ac6-c35b-dfded630fe23"
      },
      "execution_count": 29,
      "outputs": [
        {
          "output_type": "stream",
          "name": "stdout",
          "text": [
            "The maximum grade is: 98\n"
          ]
        }
      ]
    },
    {
      "cell_type": "code",
      "source": [
        "# to get the minimum grades\n",
        "grades_min = np.min(grades)\n",
        "grades_min\n",
        "print(\"The minimum grade is:\", grades_min)"
      ],
      "metadata": {
        "colab": {
          "base_uri": "https://localhost:8080/"
        },
        "id": "T8XKu06UUXna",
        "outputId": "06002e6a-8f7e-4ac1-ab68-1b3ad8dd14cb"
      },
      "execution_count": 30,
      "outputs": [
        {
          "output_type": "stream",
          "name": "stdout",
          "text": [
            "The minimum grade is: 75\n"
          ]
        }
      ]
    },
    {
      "cell_type": "code",
      "source": [
        "arcending_indices = np.argsort(grades)\n",
        "arcending_grades = grades[arcending_indices]\n",
        "arcending_grades"
      ],
      "metadata": {
        "colab": {
          "base_uri": "https://localhost:8080/"
        },
        "id": "UvDTSzRPUbu7",
        "outputId": "a1f02ce7-5c99-44af-e061-4930d72ea981"
      },
      "execution_count": null,
      "outputs": [
        {
          "output_type": "execute_result",
          "data": {
            "text/plain": [
              "array([75, 80, 83, 85, 88, 89, 90, 92, 95, 98])"
            ]
          },
          "metadata": {},
          "execution_count": 8
        }
      ]
    },
    {
      "cell_type": "code",
      "source": [
        "# to get the index\n",
        "index_highest_grades = np.max(arcending_indices)\n",
        "index_highest_grades"
      ],
      "metadata": {
        "colab": {
          "base_uri": "https://localhost:8080/"
        },
        "id": "VkvWS0NmUsGq",
        "outputId": "79062114-5bed-4e77-dde5-0a2ba8cc4d95"
      },
      "execution_count": null,
      "outputs": [
        {
          "output_type": "execute_result",
          "data": {
            "text/plain": [
              "9"
            ]
          },
          "metadata": {},
          "execution_count": 9
        }
      ]
    },
    {
      "cell_type": "code",
      "source": [
        "# to count the grades above 90 use grades[grades > 90]\n",
        "grades_above_90 = len(grades[grades>90])\n",
        "grades_above_90"
      ],
      "metadata": {
        "colab": {
          "base_uri": "https://localhost:8080/"
        },
        "id": "Zr284MQgW0ly",
        "outputId": "a8b33203-47f8-4714-df26-e6939f736469"
      },
      "execution_count": null,
      "outputs": [
        {
          "output_type": "execute_result",
          "data": {
            "text/plain": [
              "3"
            ]
          },
          "metadata": {},
          "execution_count": 10
        }
      ]
    },
    {
      "cell_type": "code",
      "source": [
        "# to calculate percentage of student who scored above 90.\n",
        "grades_percent_above_90 = np.mean(grades>90) * 100\n",
        "grades_percent_above_90\n",
        "print(\"Number of students who scored above 90:\", grades_percent_above_90)"
      ],
      "metadata": {
        "colab": {
          "base_uri": "https://localhost:8080/"
        },
        "id": "2Mz31srGXSlE",
        "outputId": "03c60aff-52da-4e62-ae38-d2f6db8f694c"
      },
      "execution_count": 35,
      "outputs": [
        {
          "output_type": "stream",
          "name": "stdout",
          "text": [
            "Number of students who scored above 90: 30.0\n"
          ]
        }
      ]
    },
    {
      "cell_type": "code",
      "source": [
        "# to calculate the percentage of student who scored below 75\n",
        "grades_percent_below_75 = np.mean(grades<75) * 100\n",
        "print(\"percentage of students who scored below 75:\", grades_percent_below_75)"
      ],
      "metadata": {
        "colab": {
          "base_uri": "https://localhost:8080/"
        },
        "id": "dgAGH5UZZZZU",
        "outputId": "940d00e7-e0cc-487d-f2c5-ad6b7ae352c7"
      },
      "execution_count": 36,
      "outputs": [
        {
          "output_type": "stream",
          "name": "stdout",
          "text": [
            "percentage of students who scored below 75: 0.0\n"
          ]
        }
      ]
    },
    {
      "cell_type": "code",
      "source": [
        "# to extract all the grades above 75\n",
        "high_performers = grades[grades>75]\n",
        "high_performers\n",
        "print(\"students who scored above 75:\", high_performers)"
      ],
      "metadata": {
        "colab": {
          "base_uri": "https://localhost:8080/"
        },
        "id": "p23m3f9SbrKV",
        "outputId": "dd4b05ea-c48a-4662-dd27-5c5a9a063d45"
      },
      "execution_count": null,
      "outputs": [
        {
          "output_type": "stream",
          "name": "stdout",
          "text": [
            "students who scored above 75: [85 90 88 92 95 80 98 89 83]\n"
          ]
        }
      ]
    },
    {
      "cell_type": "code",
      "source": [
        "passing_grades = grades[grades>75]\n",
        "passing_grades"
      ],
      "metadata": {
        "colab": {
          "base_uri": "https://localhost:8080/"
        },
        "id": "Qp8eqr3AcMyh",
        "outputId": "d7dac5ee-5996-4c08-e543-7fcb8775fcc1"
      },
      "execution_count": null,
      "outputs": [
        {
          "output_type": "execute_result",
          "data": {
            "text/plain": [
              "array([85, 90, 88, 92, 95, 80, 98, 89, 83])"
            ]
          },
          "metadata": {},
          "execution_count": 14
        }
      ]
    },
    {
      "cell_type": "markdown",
      "source": [],
      "metadata": {
        "id": "yEpwexTEZ91O"
      }
    }
  ]
}