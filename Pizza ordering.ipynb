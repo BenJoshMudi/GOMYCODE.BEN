{
  "nbformat": 4,
  "nbformat_minor": 0,
  "metadata": {
    "colab": {
      "provenance": [],
      "authorship_tag": "ABX9TyMrRg9PwXDJjzszXqRH33/E",
      "include_colab_link": true
    },
    "kernelspec": {
      "name": "python3",
      "display_name": "Python 3"
    },
    "language_info": {
      "name": "python"
    }
  },
  "cells": [
    {
      "cell_type": "markdown",
      "metadata": {
        "id": "view-in-github",
        "colab_type": "text"
      },
      "source": [
        "<a href=\"https://colab.research.google.com/github/BenJoshMudi/GOMYCODE.BEN/blob/main/Untitled0.ipynb\" target=\"_parent\"><img src=\"https://colab.research.google.com/assets/colab-badge.svg\" alt=\"Open In Colab\"/></a>"
      ]
    },
    {
      "cell_type": "code",
      "source": [
        "\"\"\"Congratulations, you've got a job at Python Pizza. Your first job is to build an automatic pizza order program. Based on a user's order, work out their final bill.\n",
        "\n",
        " ``` Small Pizza: $15 ``` ```\n",
        "\n",
        "``` Medium Pizza: $20 ```\n",
        "\n",
        "``` Large Pizza: $25 ```\n",
        "\n",
        "If they want to add pepperoni :\n",
        "\n",
        "``` Pepperoni for Small Pizza: +$2 ```\n",
        "\n",
        "``` Pepperoni for Medium or Large Pizza: +$3 ```\n",
        "\n",
        "If they want cheese :\n",
        "\n",
        " ``` Extra cheese for any size pizza: + $1 ```\"\"\"\n",
        "\n",
        "\n",
        "print('Welcome to Python Pizza Deliveries')\n",
        "\n",
        "print(\"Small Pizza: $15, \\nMedium Pizza: $20, \\nLarge Pizza: $25\")\n",
        "\n",
        "size = input(\"What size of pizza do you want? Select S for Small, M for Medium, L for Large: \").lower()\n",
        "\n",
        "add_pepperoni = input(\"Do you want pepperoni on your pizza? Type 'Yes' or 'No': \").lower()\n",
        "\n",
        "extra_cheese = input(\"Do you want extra cheese on your pizza? Type 'Yes' or 'No': \").lower()\n",
        "bill = 0\n",
        "\n",
        "if size == 's':\n",
        "    bill += 15\n",
        "    if add_pepperoni == 'yes':\n",
        "        bill += 2\n",
        "elif size == 'm':\n",
        "    bill += 20\n",
        "    if add_pepperoni == 'yes':\n",
        "        bill += 3\n",
        "elif size == 'l':\n",
        "    bill += 25\n",
        "    if add_pepperoni == 'yes':\n",
        "        bill += 3\n",
        "\n",
        "if extra_cheese == 'yes':\n",
        "    bill += 1\n",
        "\n",
        "\n",
        "print(f'Your final bill is ${bill}.')"
      ],
      "metadata": {
        "colab": {
          "base_uri": "https://localhost:8080/"
        },
        "id": "J98PMGdx53Lo",
        "outputId": "c327004f-06be-48b6-de34-5cf58d0a8630"
      },
      "execution_count": 2,
      "outputs": [
        {
          "output_type": "stream",
          "name": "stdout",
          "text": [
            "Welcome to Python Pizza Deliveries\n",
            "Small Pizza: $15, \n",
            "Medium Pizza: $20, \n",
            "Large Pizza: $25\n",
            "What size of pizza do you want? Select S for Small, M for Medium, L for Large: L\n",
            "Do you want pepperoni on your pizza? Type 'Yes' or 'No': YES\n",
            "Do you want extra cheese on your pizza? Type 'Yes' or 'No': YES\n",
            "Your final bill is $29.\n"
          ]
        }
      ]
    },
    {
      "cell_type": "code",
      "execution_count": null,
      "metadata": {
        "id": "b8a5Idz45y5f"
      },
      "outputs": [],
      "source": []
    }
  ]
}
