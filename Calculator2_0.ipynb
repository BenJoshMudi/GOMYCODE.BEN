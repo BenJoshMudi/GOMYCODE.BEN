{
  "nbformat": 4,
  "nbformat_minor": 0,
  "metadata": {
    "colab": {
      "provenance": [],
      "authorship_tag": "ABX9TyM+5TsV5jgRiHYHp4EfQKeT",
      "include_colab_link": true
    },
    "kernelspec": {
      "name": "python3",
      "display_name": "Python 3"
    },
    "language_info": {
      "name": "python"
    }
  },
  "cells": [
    {
      "cell_type": "markdown",
      "metadata": {
        "id": "view-in-github",
        "colab_type": "text"
      },
      "source": [
        "<a href=\"https://colab.research.google.com/github/BenJoshMudi/GOMYCODE.BEN/blob/main/Calculator2_0.ipynb\" target=\"_parent\"><img src=\"https://colab.research.google.com/assets/colab-badge.svg\" alt=\"Open In Colab\"/></a>"
      ]
    },
    {
      "cell_type": "code",
      "execution_count": null,
      "metadata": {
        "colab": {
          "base_uri": "https://localhost:8080/"
        },
        "id": "yM29ACULhy9U",
        "outputId": "3c6bfd59-9977-4e0d-84f9-cd431ddd8d68"
      },
      "outputs": [
        {
          "output_type": "stream",
          "name": "stdout",
          "text": [
            "Enter the first number: 3\n",
            "Enter the second number: 4\n",
            "enter the operation (+, -, *, /, ^, sqrt, log): +\n",
            "Result:  7.0\n"
          ]
        }
      ],
      "source": [
        "import math\n",
        "\n",
        "class Calculator:\n",
        "    def __init__(self):\n",
        "        self.operations = {'+': self.add, '-': self.subtract, '*': self.multiply, '/': self.divide}\n",
        "\n",
        "    def add_operation(self, symbols, function):\n",
        "        self.operations[symbols] = function\n",
        "\n",
        "    def calculate(self, num1, op, num2):\n",
        "        if op not in self.operations:\n",
        "            print(\"Error: Invalid Operation.\")\n",
        "            raise ValueError(\"Invalid operations.\")\n",
        "\n",
        "        if not (isinstance(num1, (int, float)) and isinstance(num2, (int, float))):\n",
        "            print(\"Error: Both inputs must be numbers\")\n",
        "            raise ValueError(\"Both inputs must be numbers.\")\n",
        "\n",
        "        return self.operations[op](num1, num2)\n",
        "\n",
        "    def add(self, x, y):\n",
        "        return x + y\n",
        "\n",
        "    def subtract(self, x, y):\n",
        "        return x - y\n",
        "\n",
        "    def multiply(self, x, y):\n",
        "        return x * y\n",
        "\n",
        "    def divide(self, x, y):\n",
        "        if y == 0:\n",
        "            print(\"Error: Division by zero.\")\n",
        "            raise ValueError(\"Division by zero.\")\n",
        "        return x / y\n",
        "\n",
        "\n",
        "def exponential(x, y):\n",
        "    return x ** y\n",
        "\n",
        "def square_root(x, y):\n",
        "    return math.sqrt(x)\n",
        "\n",
        "def logarithm(x, y):\n",
        "    return math.log(x, y)\n",
        "\n",
        "if __name__ == \"__main__\":\n",
        "    calc = Calculator()\n",
        "    calc.add_operation(\"^\", exponential)\n",
        "    calc.add_operation('sqrt', square_root)\n",
        "    calc.add_operation('log', 'logarithm')\n",
        "\n",
        "    while True:\n",
        "        num1 = input(\"Enter the first number: \")\n",
        "        if num1.lower() == \"exit\":\n",
        "            break\n",
        "\n",
        "        num2 = input(\"Enter the second number: \")\n",
        "        if num2.lower() == \"exit\":\n",
        "            break\n",
        "\n",
        "        op = input(\"enter the operation (+, -, *, /, ^, sqrt, log): \")\n",
        "        if op.lower() == \"exit\":\n",
        "            break\n",
        "\n",
        "        try:\n",
        "            num1 = float(num1)\n",
        "            num2 = float(num2)\n",
        "            result = calc.calculate(num1, op, num2)\n",
        "            print(\"Result: \", result)\n",
        "        except ValueError as e:\n",
        "            print(e)\n",
        "        except ZeroDivisionError as e:\n",
        "            print(e)\n",
        "\n",
        "\n",
        "\n",
        "\n",
        "\n",
        "\n",
        "\n",
        "\n",
        "\n"
      ]
    }
  ]
}